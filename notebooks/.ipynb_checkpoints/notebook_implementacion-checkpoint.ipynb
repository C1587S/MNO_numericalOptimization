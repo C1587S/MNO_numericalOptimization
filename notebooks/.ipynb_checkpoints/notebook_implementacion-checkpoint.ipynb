{
 "cells": [
  {
   "cell_type": "markdown",
   "metadata": {},
   "source": [
    "# Implementación de los métodos\n",
    "\n"
   ]
  },
  {
   "cell_type": "markdown",
   "metadata": {},
   "source": [
    "\n",
    "En este notebook se plantea la solución del problema utilizando los siguiente métodos: Newton, Broyden-Fletcher-Goldfarb-Shanno  (BFGS) y el gradiente descendente estocástico (SGD). El presente notebook es autocontenido, sin embargo, la implementación principal se realiza con un enfoque modular.\n",
    "\n",
    "A continuación, se describe el conjunto de datos que se emplearán y se define el planteamiento del problema. Una explicación más detallada se realiza en el informe (en formato PDF) de este proyecto.\n",
    "\n",
    "**Nota:** Esta implementación se basa en material y actividades impartidas por los profesores de los cursos de [Métodos Numéricos y optimización](https://github.com/ITAM-DS/analisis-numerico-computo-cientifico/blob/master/temas/IV.optimizacion_convexa_y_machine_learning/4.3.Regresion_logistica_R.ipynb) (2010-I) (Prof. Erick Palacios Moreno) y Aprendizaje de Máquina (2019-II) (Prof. Rodrigo Mendoza Smith).\n"
   ]
  },
  {
   "cell_type": "markdown",
   "metadata": {},
   "source": [
    "## Conjunto de datos"
   ]
  },
  {
   "cell_type": "markdown",
   "metadata": {},
   "source": [
    "Por la restricciones de uso de la base de datos de entrenamiento original (además de una serie de requerimientos protocolares como contar con la aprobación de un Comité de Ética Independiente), optamos por trabajar con una de las dos bases de datos que los autores emplearon para validar sus modelos: KGH. La base de datos en mención, consta de $106$ casos positivos  de  pacientes  con  ébola  y  un  case fatality rate global por encima del setenta por ciento.  Originalmente,  previo  al tratamiento de los datos, la base tenía únicamente $44$ registros de triaje, $58$ registros de carga viral, con un total de 78 valores faltantes en todo el data set. Para  harmonizar  los  datos,  los  autores  transformaron  la  carga  viral  en  CT,  conforme  con  la curva estándar qPCR:\n",
    "\n",
    "$$log_{(carga \\; viral)} = m*CT + c_0$$"
   ]
  },
  {
   "cell_type": "markdown",
   "metadata": {},
   "source": [
    "Nosotros, para fines del presente trabajo, empleamos una de las versiones imputadas de esta base de datos, dispuesta en el siguiente sitio: [ebola-imc-public](https://github.com/dapivei/ebola-imc-public/blob/master/data/kenema/test/pres-kgh/imputation-50.csv), misma que cuenta con $11$ variables: la variable output, $y_{i}$ asociada a la supervivencia o no del paciente ${i}$ con virus del ébola, y ${j}$ variables explicativas asociadas, $x_{i,j}$. Los regresores escogidos son aquellos que, conforme con nuestra principal referencia, son buenos predictores de la probabilidad de muerte o no de un paciente. "
   ]
  },
  {
   "cell_type": "markdown",
   "metadata": {},
   "source": [
    "|Tipo| Nombre|Descripción|\n",
    "|---| --- | --- |\n",
    "|Variable Numérica| CT |El cycle threshold (CT) es una variable que se calcula a partir de una relación médica bien conocida (qPCR) y la carga viral (una expresión númerica de la cantidad de virus dado un volúmen de fluido que normalmente se correlaciona con la severidad de una infección viral activa).|\n",
    "|Variable Numérica|TEMP|Temperatura corporal del paciente. Toma valores de 1 a 73.|\n",
    "|Variable Numérica|_AGE_ |Edad del paciente. Toma valores de $1$ a $73$.|\n",
    "|Variable Categórica |_HEADCH_ | Presencia o no dolores de cabeza. Toma valores valores $0$ o $1$, dependiendo de si el paciente presenta o no dolores de cabeza.|\n",
    "|Variable Categórica |  _BLEED_ | Presencia o no de sangrado. Toma valores valores $0$ o $1$, dependiendo de si el paciente presenta o no sangrado. |\n",
    "|Variable Categórica |  _DIARR_ | Presencia o no de diarrea. Toma valores valores $0$ o $1$, dependiendo de si el paciente presenta o no diarrea.|\n",
    "|Variable Categórica | _VOMIT_ | Dificultad para comer, conocido como disfagia, término técnico para describir el síntoma consistente en dificultad para la deglución (problemaspara  tragar).   Esta  dificultad  suele  ir  acompañada  de  dolores,  a  veces lancinantes (disfagia dolorosa u odinofagia .  Toma valores valores $1$ o $0$, dependiendo de si el paciente presenta o no de disfacia\n",
    "|Variable Categórica | _PABD_ | Presencia o no de PADB.\n",
    "|Variable Categórica |_WEAK_ | Presencia o no de debilidad o fatiga general.|\n",
    "|Variable Categórica |_JAUN_ |Condición  en la cuál la piel, los ojos y los miembros mucosos que vuelven amarillos debido a altos niveles de bilirubina. Toma valores valores $0$ o $1$, dependiendo de si el paciente presenta o no ictericia.|\n",
    "|Variable Categórica |_OUT_| Muerte o no muerte del paciente.  Toma valores $1$ o $0$.  Dependiendo desi el paciente muere o no muere.|\n",
    "\n"
   ]
  },
  {
   "cell_type": "markdown",
   "metadata": {},
   "source": [
    "\n",
    "## Problema de regresión Logística"
   ]
  },
  {
   "cell_type": "markdown",
   "metadata": {},
   "source": [
    "Matemáticamente, este conjunto se define de la siguiente manera: \n",
    "\n",
    "$$\\mathcal{D}=\\left\\{ \\left(x_{i},y_{i}\\right)\\in\\mathbb{R}^{p}\\times\\left\\{ 0,1\\right\\} :i\\in\\left[m\\right]\\right\\} $$.\n",
    "\n",
    "El método de _regresión logística_ asume que $Pr\\left[y_{i}\\mid x_{i},\\beta\\right]\\sim Bernoulli\\left(\\mu_{i}\\right)$\n",
    "con los siguientes supuestos sobre la media, $\\mu_{i}$:\n",
    "\n",
    "$$\n",
    "\\mu_{i}=\\sigma\\left(\\beta^{T}x_{i}\\right) \\label{eq-3.1} \\tag{1}\n",
    "$$\n",
    "$$\n",
    "\\sigma(z)=\\left(1+\\exp\\left(-z\\right)\\right)^{-1} \\label{eq-3.2} \\tag{2}\n",
    "$$\n",
    "\n",
    "donde $\\beta\\in\\mathbb{R}^{p}$. \n",
    "\n",
    "\n",
    "Dado lo anterior, nuestro problema es encontrar un modelo tal que $\\hat{\\beta}\\in\\mathbb{R}^{p}$ explica de la mejor manera posible a $\\mathcal{D}$. \n",
    "\n",
    "Para lograr lo anterior, debemos estimar el conjunto de parámetros $\\hat{\\beta}$ para modelar $Pr\\left[y\\mid x,\\hat{\\beta}\\right]$ y predecir la etiqueta $\\hat{y}\\in\\left\\{ 0,1\\right\\} $ de un nuevo\n",
    "dato $x$ por medio de:\n",
    "\n",
    "$$\n",
    "\\hat{y}=\\begin{cases}\n",
    "1 & si\\,\\sigma\\left(\\hat{\\beta}^{T}x\\right)\\geq0.5\\\\\n",
    "0 & si\\,\\sigma\\left(\\hat{\\beta}^{T}x\\right)<0.5\n",
    "\\end{cases}\\label{eq-3.3} \\tag{3}\n",
    "$$\n",
    "\n",
    "la función de pérdida que queremos minimizar en este problema corresponde a la _log-verosimilitud negativa_ , que está dada por:\n",
    "\n",
    "$$\n",
    "F(\\beta):=LVN(\\beta)=-\\sum_{i=1}^{m}\\left[y_{i}log\\mu_{i}+(1-y_{i})log(1-\\mu_{i})\\right]\\label{eq-3.4} \\tag{4}\n",
    "$$\n",
    "\n",
    "\n",
    "Una vez planteado lo anterior, queremos encontrar $\\hat{\\beta}$ por medio de métodos numéricos de optimización de tal forma que se minimize ([4](#mjx-eqn-eq1)) para el conjunto de datos dado.\n",
    "\n",
    "\n",
    "_En los siguientes fragmentos de código se realiza el planteamiento del problema, desde la importación de datos hasta el proceso de entrenamiento del modelo utilizando distintos algoritmos de optimización que se explican con brevedad._\n"
   ]
  },
  {
   "cell_type": "markdown",
   "metadata": {},
   "source": [
    "\n",
    "---------------------"
   ]
  },
  {
   "cell_type": "markdown",
   "metadata": {},
   "source": [
    "### Importación y exploración del conjunto de datos\n",
    "\n",
    "En esta sección se importa y transforma los datos, con el fin de obtener el conjunto $\\mathcal{D}$."
   ]
  },
  {
   "cell_type": "code",
   "execution_count": 4,
   "metadata": {},
   "outputs": [],
   "source": [
    "# librerías\n",
    "import math\n",
    "import numpy as np\n",
    "import pandas as pd\n",
    "from sklearn.preprocessing import OneHotEncoder\n",
    "import seaborn as sns"
   ]
  },
  {
   "cell_type": "code",
   "execution_count": 5,
   "metadata": {},
   "outputs": [],
   "source": [
    "url=\"https://raw.githubusercontent.com/afcarl/ebola-imc-public/master/data/kenema/test/pres-kgh/imputation-50.csv\"\n",
    "df_raw=pd.read_csv(url,sep=\",\")"
   ]
  },
  {
   "cell_type": "code",
   "execution_count": 6,
   "metadata": {},
   "outputs": [
    {
     "data": {
      "text/html": [
       "<div>\n",
       "<style scoped>\n",
       "    .dataframe tbody tr th:only-of-type {\n",
       "        vertical-align: middle;\n",
       "    }\n",
       "\n",
       "    .dataframe tbody tr th {\n",
       "        vertical-align: top;\n",
       "    }\n",
       "\n",
       "    .dataframe thead th {\n",
       "        text-align: right;\n",
       "    }\n",
       "</style>\n",
       "<table border=\"1\" class=\"dataframe\">\n",
       "  <thead>\n",
       "    <tr style=\"text-align: right;\">\n",
       "      <th></th>\n",
       "      <th>OUT</th>\n",
       "      <th>CT</th>\n",
       "      <th>AGE</th>\n",
       "      <th>TEMP</th>\n",
       "      <th>HEADCH</th>\n",
       "      <th>BLEED</th>\n",
       "      <th>DIARR</th>\n",
       "      <th>JAUN</th>\n",
       "      <th>VOMIT</th>\n",
       "      <th>PABD</th>\n",
       "      <th>WEAK</th>\n",
       "    </tr>\n",
       "  </thead>\n",
       "  <tbody>\n",
       "    <tr>\n",
       "      <th>0</th>\n",
       "      <td>1</td>\n",
       "      <td>28.652450</td>\n",
       "      <td>42.0</td>\n",
       "      <td>36.3</td>\n",
       "      <td>0</td>\n",
       "      <td>0</td>\n",
       "      <td>1</td>\n",
       "      <td>0</td>\n",
       "      <td>0</td>\n",
       "      <td>1</td>\n",
       "      <td>1</td>\n",
       "    </tr>\n",
       "    <tr>\n",
       "      <th>1</th>\n",
       "      <td>1</td>\n",
       "      <td>25.736016</td>\n",
       "      <td>45.0</td>\n",
       "      <td>36.5</td>\n",
       "      <td>1</td>\n",
       "      <td>0</td>\n",
       "      <td>1</td>\n",
       "      <td>0</td>\n",
       "      <td>0</td>\n",
       "      <td>1</td>\n",
       "      <td>1</td>\n",
       "    </tr>\n",
       "    <tr>\n",
       "      <th>2</th>\n",
       "      <td>1</td>\n",
       "      <td>20.747653</td>\n",
       "      <td>65.0</td>\n",
       "      <td>38.0</td>\n",
       "      <td>1</td>\n",
       "      <td>0</td>\n",
       "      <td>0</td>\n",
       "      <td>0</td>\n",
       "      <td>0</td>\n",
       "      <td>0</td>\n",
       "      <td>0</td>\n",
       "    </tr>\n",
       "    <tr>\n",
       "      <th>3</th>\n",
       "      <td>1</td>\n",
       "      <td>22.736993</td>\n",
       "      <td>44.0</td>\n",
       "      <td>38.6</td>\n",
       "      <td>1</td>\n",
       "      <td>0</td>\n",
       "      <td>0</td>\n",
       "      <td>0</td>\n",
       "      <td>0</td>\n",
       "      <td>0</td>\n",
       "      <td>1</td>\n",
       "    </tr>\n",
       "    <tr>\n",
       "      <th>4</th>\n",
       "      <td>1</td>\n",
       "      <td>20.846284</td>\n",
       "      <td>11.0</td>\n",
       "      <td>38.4</td>\n",
       "      <td>1</td>\n",
       "      <td>0</td>\n",
       "      <td>0</td>\n",
       "      <td>0</td>\n",
       "      <td>1</td>\n",
       "      <td>0</td>\n",
       "      <td>1</td>\n",
       "    </tr>\n",
       "  </tbody>\n",
       "</table>\n",
       "</div>"
      ],
      "text/plain": [
       "   OUT         CT   AGE  TEMP  HEADCH  BLEED  DIARR  JAUN  VOMIT  PABD  WEAK\n",
       "0    1  28.652450  42.0  36.3       0      0      1     0      0     1     1\n",
       "1    1  25.736016  45.0  36.5       1      0      1     0      0     1     1\n",
       "2    1  20.747653  65.0  38.0       1      0      0     0      0     0     0\n",
       "3    1  22.736993  44.0  38.6       1      0      0     0      0     0     1\n",
       "4    1  20.846284  11.0  38.4       1      0      0     0      1     0     1"
      ]
     },
     "execution_count": 6,
     "metadata": {},
     "output_type": "execute_result"
    }
   ],
   "source": [
    "df_raw.head()\n",
    "# df[df.isnull().any(axis=1)] - no hay NAs"
   ]
  },
  {
   "cell_type": "code",
   "execution_count": 7,
   "metadata": {},
   "outputs": [
    {
     "data": {
      "text/plain": [
       "OUT         int64\n",
       "CT        float64\n",
       "AGE       float64\n",
       "TEMP      float64\n",
       "HEADCH      int64\n",
       "BLEED       int64\n",
       "DIARR       int64\n",
       "JAUN        int64\n",
       "VOMIT       int64\n",
       "PABD        int64\n",
       "WEAK        int64\n",
       "dtype: object"
      ]
     },
     "execution_count": 7,
     "metadata": {},
     "output_type": "execute_result"
    }
   ],
   "source": [
    "# verificar tipo de variables \n",
    "df_raw.dtypes"
   ]
  },
  {
   "cell_type": "code",
   "execution_count": 8,
   "metadata": {},
   "outputs": [
    {
     "data": {
      "text/html": [
       "<div>\n",
       "<style scoped>\n",
       "    .dataframe tbody tr th:only-of-type {\n",
       "        vertical-align: middle;\n",
       "    }\n",
       "\n",
       "    .dataframe tbody tr th {\n",
       "        vertical-align: top;\n",
       "    }\n",
       "\n",
       "    .dataframe thead th {\n",
       "        text-align: right;\n",
       "    }\n",
       "</style>\n",
       "<table border=\"1\" class=\"dataframe\">\n",
       "  <thead>\n",
       "    <tr style=\"text-align: right;\">\n",
       "      <th></th>\n",
       "      <th>OUT</th>\n",
       "      <th>CT</th>\n",
       "      <th>AGE</th>\n",
       "      <th>TEMP</th>\n",
       "      <th>HEADCH</th>\n",
       "      <th>BLEED</th>\n",
       "      <th>DIARR</th>\n",
       "      <th>JAUN</th>\n",
       "      <th>VOMIT</th>\n",
       "      <th>PABD</th>\n",
       "      <th>WEAK</th>\n",
       "    </tr>\n",
       "  </thead>\n",
       "  <tbody>\n",
       "    <tr>\n",
       "      <th>count</th>\n",
       "      <td>106.000000</td>\n",
       "      <td>106.000000</td>\n",
       "      <td>106.000000</td>\n",
       "      <td>106.000000</td>\n",
       "      <td>106.000000</td>\n",
       "      <td>106.000000</td>\n",
       "      <td>106.000000</td>\n",
       "      <td>106.0</td>\n",
       "      <td>106.000000</td>\n",
       "      <td>106.000000</td>\n",
       "      <td>106.000000</td>\n",
       "    </tr>\n",
       "    <tr>\n",
       "      <th>mean</th>\n",
       "      <td>0.764151</td>\n",
       "      <td>25.720411</td>\n",
       "      <td>34.102170</td>\n",
       "      <td>37.256604</td>\n",
       "      <td>0.603774</td>\n",
       "      <td>0.066038</td>\n",
       "      <td>0.405660</td>\n",
       "      <td>0.0</td>\n",
       "      <td>0.207547</td>\n",
       "      <td>0.273585</td>\n",
       "      <td>0.500000</td>\n",
       "    </tr>\n",
       "    <tr>\n",
       "      <th>std</th>\n",
       "      <td>0.426545</td>\n",
       "      <td>5.869164</td>\n",
       "      <td>17.382844</td>\n",
       "      <td>1.030767</td>\n",
       "      <td>0.491436</td>\n",
       "      <td>0.249528</td>\n",
       "      <td>0.493352</td>\n",
       "      <td>0.0</td>\n",
       "      <td>0.407477</td>\n",
       "      <td>0.447916</td>\n",
       "      <td>0.502375</td>\n",
       "    </tr>\n",
       "    <tr>\n",
       "      <th>min</th>\n",
       "      <td>0.000000</td>\n",
       "      <td>12.100000</td>\n",
       "      <td>0.830000</td>\n",
       "      <td>36.000000</td>\n",
       "      <td>0.000000</td>\n",
       "      <td>0.000000</td>\n",
       "      <td>0.000000</td>\n",
       "      <td>0.0</td>\n",
       "      <td>0.000000</td>\n",
       "      <td>0.000000</td>\n",
       "      <td>0.000000</td>\n",
       "    </tr>\n",
       "    <tr>\n",
       "      <th>25%</th>\n",
       "      <td>1.000000</td>\n",
       "      <td>22.149857</td>\n",
       "      <td>22.000000</td>\n",
       "      <td>36.300000</td>\n",
       "      <td>0.000000</td>\n",
       "      <td>0.000000</td>\n",
       "      <td>0.000000</td>\n",
       "      <td>0.0</td>\n",
       "      <td>0.000000</td>\n",
       "      <td>0.000000</td>\n",
       "      <td>0.000000</td>\n",
       "    </tr>\n",
       "    <tr>\n",
       "      <th>50%</th>\n",
       "      <td>1.000000</td>\n",
       "      <td>25.236301</td>\n",
       "      <td>35.500000</td>\n",
       "      <td>37.250000</td>\n",
       "      <td>1.000000</td>\n",
       "      <td>0.000000</td>\n",
       "      <td>0.000000</td>\n",
       "      <td>0.0</td>\n",
       "      <td>0.000000</td>\n",
       "      <td>0.000000</td>\n",
       "      <td>0.500000</td>\n",
       "    </tr>\n",
       "    <tr>\n",
       "      <th>75%</th>\n",
       "      <td>1.000000</td>\n",
       "      <td>28.680924</td>\n",
       "      <td>45.000000</td>\n",
       "      <td>38.225000</td>\n",
       "      <td>1.000000</td>\n",
       "      <td>0.000000</td>\n",
       "      <td>1.000000</td>\n",
       "      <td>0.0</td>\n",
       "      <td>0.000000</td>\n",
       "      <td>1.000000</td>\n",
       "      <td>1.000000</td>\n",
       "    </tr>\n",
       "    <tr>\n",
       "      <th>max</th>\n",
       "      <td>1.000000</td>\n",
       "      <td>39.799999</td>\n",
       "      <td>80.000000</td>\n",
       "      <td>39.900000</td>\n",
       "      <td>1.000000</td>\n",
       "      <td>1.000000</td>\n",
       "      <td>1.000000</td>\n",
       "      <td>0.0</td>\n",
       "      <td>1.000000</td>\n",
       "      <td>1.000000</td>\n",
       "      <td>1.000000</td>\n",
       "    </tr>\n",
       "  </tbody>\n",
       "</table>\n",
       "</div>"
      ],
      "text/plain": [
       "              OUT          CT         AGE        TEMP      HEADCH       BLEED  \\\n",
       "count  106.000000  106.000000  106.000000  106.000000  106.000000  106.000000   \n",
       "mean     0.764151   25.720411   34.102170   37.256604    0.603774    0.066038   \n",
       "std      0.426545    5.869164   17.382844    1.030767    0.491436    0.249528   \n",
       "min      0.000000   12.100000    0.830000   36.000000    0.000000    0.000000   \n",
       "25%      1.000000   22.149857   22.000000   36.300000    0.000000    0.000000   \n",
       "50%      1.000000   25.236301   35.500000   37.250000    1.000000    0.000000   \n",
       "75%      1.000000   28.680924   45.000000   38.225000    1.000000    0.000000   \n",
       "max      1.000000   39.799999   80.000000   39.900000    1.000000    1.000000   \n",
       "\n",
       "            DIARR   JAUN       VOMIT        PABD        WEAK  \n",
       "count  106.000000  106.0  106.000000  106.000000  106.000000  \n",
       "mean     0.405660    0.0    0.207547    0.273585    0.500000  \n",
       "std      0.493352    0.0    0.407477    0.447916    0.502375  \n",
       "min      0.000000    0.0    0.000000    0.000000    0.000000  \n",
       "25%      0.000000    0.0    0.000000    0.000000    0.000000  \n",
       "50%      0.000000    0.0    0.000000    0.000000    0.500000  \n",
       "75%      1.000000    0.0    0.000000    1.000000    1.000000  \n",
       "max      1.000000    0.0    1.000000    1.000000    1.000000  "
      ]
     },
     "execution_count": 8,
     "metadata": {},
     "output_type": "execute_result"
    }
   ],
   "source": [
    "# resumen de las variables\n",
    "df_raw.describe()"
   ]
  },
  {
   "cell_type": "code",
   "execution_count": 9,
   "metadata": {},
   "outputs": [
    {
     "data": {
      "text/plain": [
       "OUT       category\n",
       "CT         float64\n",
       "AGE        float64\n",
       "TEMP       float64\n",
       "HEADCH    category\n",
       "BLEED     category\n",
       "DIARR     category\n",
       "JAUN      category\n",
       "VOMIT     category\n",
       "PABD      category\n",
       "WEAK      category\n",
       "dtype: object"
      ]
     },
     "execution_count": 9,
     "metadata": {},
     "output_type": "execute_result"
    }
   ],
   "source": [
    "df_raw_cat = df_raw.copy()\n",
    "\n",
    "cat_vars = ['OUT', 'HEADCH', 'BLEED', 'DIARR', 'JAUN', 'VOMIT',\n",
    "       'PABD', 'WEAK']\n",
    "for var in cat_vars:\n",
    "    df_raw_cat[var] = df_raw_cat[var].astype('category')\n",
    "df_raw_cat.dtypes\n"
   ]
  },
  {
   "cell_type": "code",
   "execution_count": 10,
   "metadata": {},
   "outputs": [
    {
     "data": {
      "text/html": [
       "<div>\n",
       "<style scoped>\n",
       "    .dataframe tbody tr th:only-of-type {\n",
       "        vertical-align: middle;\n",
       "    }\n",
       "\n",
       "    .dataframe tbody tr th {\n",
       "        vertical-align: top;\n",
       "    }\n",
       "\n",
       "    .dataframe thead th {\n",
       "        text-align: right;\n",
       "    }\n",
       "</style>\n",
       "<table border=\"1\" class=\"dataframe\">\n",
       "  <thead>\n",
       "    <tr style=\"text-align: right;\">\n",
       "      <th></th>\n",
       "      <th>CT</th>\n",
       "      <th>AGE</th>\n",
       "      <th>TEMP</th>\n",
       "    </tr>\n",
       "  </thead>\n",
       "  <tbody>\n",
       "    <tr>\n",
       "      <th>count</th>\n",
       "      <td>106.000000</td>\n",
       "      <td>106.000000</td>\n",
       "      <td>106.000000</td>\n",
       "    </tr>\n",
       "    <tr>\n",
       "      <th>mean</th>\n",
       "      <td>25.720411</td>\n",
       "      <td>34.102170</td>\n",
       "      <td>37.256604</td>\n",
       "    </tr>\n",
       "    <tr>\n",
       "      <th>std</th>\n",
       "      <td>5.869164</td>\n",
       "      <td>17.382844</td>\n",
       "      <td>1.030767</td>\n",
       "    </tr>\n",
       "    <tr>\n",
       "      <th>min</th>\n",
       "      <td>12.100000</td>\n",
       "      <td>0.830000</td>\n",
       "      <td>36.000000</td>\n",
       "    </tr>\n",
       "    <tr>\n",
       "      <th>25%</th>\n",
       "      <td>22.149857</td>\n",
       "      <td>22.000000</td>\n",
       "      <td>36.300000</td>\n",
       "    </tr>\n",
       "    <tr>\n",
       "      <th>50%</th>\n",
       "      <td>25.236301</td>\n",
       "      <td>35.500000</td>\n",
       "      <td>37.250000</td>\n",
       "    </tr>\n",
       "    <tr>\n",
       "      <th>75%</th>\n",
       "      <td>28.680924</td>\n",
       "      <td>45.000000</td>\n",
       "      <td>38.225000</td>\n",
       "    </tr>\n",
       "    <tr>\n",
       "      <th>max</th>\n",
       "      <td>39.799999</td>\n",
       "      <td>80.000000</td>\n",
       "      <td>39.900000</td>\n",
       "    </tr>\n",
       "  </tbody>\n",
       "</table>\n",
       "</div>"
      ],
      "text/plain": [
       "               CT         AGE        TEMP\n",
       "count  106.000000  106.000000  106.000000\n",
       "mean    25.720411   34.102170   37.256604\n",
       "std      5.869164   17.382844    1.030767\n",
       "min     12.100000    0.830000   36.000000\n",
       "25%     22.149857   22.000000   36.300000\n",
       "50%     25.236301   35.500000   37.250000\n",
       "75%     28.680924   45.000000   38.225000\n",
       "max     39.799999   80.000000   39.900000"
      ]
     },
     "execution_count": 10,
     "metadata": {},
     "output_type": "execute_result"
    }
   ],
   "source": [
    "df_raw_cat.describe()"
   ]
  },
  {
   "cell_type": "code",
   "execution_count": 11,
   "metadata": {},
   "outputs": [
    {
     "data": {
      "text/html": [
       "<div>\n",
       "<style scoped>\n",
       "    .dataframe tbody tr th:only-of-type {\n",
       "        vertical-align: middle;\n",
       "    }\n",
       "\n",
       "    .dataframe tbody tr th {\n",
       "        vertical-align: top;\n",
       "    }\n",
       "\n",
       "    .dataframe thead th {\n",
       "        text-align: right;\n",
       "    }\n",
       "</style>\n",
       "<table border=\"1\" class=\"dataframe\">\n",
       "  <thead>\n",
       "    <tr style=\"text-align: right;\">\n",
       "      <th></th>\n",
       "      <th>OUT</th>\n",
       "      <th>HEADCH</th>\n",
       "      <th>BLEED</th>\n",
       "      <th>DIARR</th>\n",
       "      <th>JAUN</th>\n",
       "      <th>VOMIT</th>\n",
       "      <th>PABD</th>\n",
       "      <th>WEAK</th>\n",
       "    </tr>\n",
       "  </thead>\n",
       "  <tbody>\n",
       "    <tr>\n",
       "      <th>count</th>\n",
       "      <td>106</td>\n",
       "      <td>106</td>\n",
       "      <td>106</td>\n",
       "      <td>106</td>\n",
       "      <td>106</td>\n",
       "      <td>106</td>\n",
       "      <td>106</td>\n",
       "      <td>106</td>\n",
       "    </tr>\n",
       "    <tr>\n",
       "      <th>unique</th>\n",
       "      <td>2</td>\n",
       "      <td>2</td>\n",
       "      <td>2</td>\n",
       "      <td>2</td>\n",
       "      <td>1</td>\n",
       "      <td>2</td>\n",
       "      <td>2</td>\n",
       "      <td>2</td>\n",
       "    </tr>\n",
       "    <tr>\n",
       "      <th>top</th>\n",
       "      <td>1</td>\n",
       "      <td>1</td>\n",
       "      <td>0</td>\n",
       "      <td>0</td>\n",
       "      <td>0</td>\n",
       "      <td>0</td>\n",
       "      <td>0</td>\n",
       "      <td>1</td>\n",
       "    </tr>\n",
       "    <tr>\n",
       "      <th>freq</th>\n",
       "      <td>81</td>\n",
       "      <td>64</td>\n",
       "      <td>99</td>\n",
       "      <td>63</td>\n",
       "      <td>106</td>\n",
       "      <td>84</td>\n",
       "      <td>77</td>\n",
       "      <td>53</td>\n",
       "    </tr>\n",
       "  </tbody>\n",
       "</table>\n",
       "</div>"
      ],
      "text/plain": [
       "        OUT  HEADCH  BLEED  DIARR  JAUN  VOMIT  PABD  WEAK\n",
       "count   106     106    106    106   106    106   106   106\n",
       "unique    2       2      2      2     1      2     2     2\n",
       "top       1       1      0      0     0      0     0     1\n",
       "freq     81      64     99     63   106     84    77    53"
      ]
     },
     "execution_count": 11,
     "metadata": {},
     "output_type": "execute_result"
    }
   ],
   "source": [
    "# Describe categorical data\n",
    "df_proc_cat = df_raw_cat.select_dtypes(include=['category']).copy()\n",
    "df_proc_cat.describe()"
   ]
  },
  {
   "cell_type": "code",
   "execution_count": 12,
   "metadata": {},
   "outputs": [
    {
     "data": {
      "image/png": "[encoded data removed]",
      "text/plain": [
       "<Figure size 864x288 with 2 Axes>"
      ]
     },
     "metadata": {
      "needs_background": "light"
     },
     "output_type": "display_data"
    },
    {
     "data": {
      "image/png": "[encoded data removed]",
      "text/plain": [
       "<Figure size 864x288 with 2 Axes>"
      ]
     },
     "metadata": {
      "needs_background": "light"
     },
     "output_type": "display_data"
    },
    {
     "data": {
      "image/png": "[encoded data removed]",
      "text/plain": [
       "<Figure size 864x288 with 2 Axes>"
      ]
     },
     "metadata": {
      "needs_background": "light"
     },
     "output_type": "display_data"
    },
    {
     "data": {
      "image/png": "[encoded data removed]",
      "text/plain": [
       "<Figure size 864x288 with 2 Axes>"
      ]
     },
     "metadata": {
      "needs_background": "light"
     },
     "output_type": "display_data"
    },
    {
     "data": {
      "image/png": "[encoded data removed]",
      "text/plain": [
       "<Figure size 864x288 with 2 Axes>"
      ]
     },
     "metadata": {
      "needs_background": "light"
     },
     "output_type": "display_data"
    },
    {
     "data": {
      "image/png": "[encoded data removed]",
      "text/plain": [
       "<Figure size 864x288 with 2 Axes>"
      ]
     },
     "metadata": {
      "needs_background": "light"
     },
     "output_type": "display_data"
    },
    {
     "data": {
      "image/png": "[encoded data removed]",
      "text/plain": [
       "<Figure size 864x288 with 2 Axes>"
      ]
     },
     "metadata": {
      "needs_background": "light"
     },
     "output_type": "display_data"
    }
   ],
   "source": [
    "cat_vars = cat_vars[1:]\n",
    "\n",
    "for i, col_val in enumerate(cat_vars):\n",
    "    sns.catplot(x = col_val, y = None, hue= None, col=\"OUT\",\n",
    "                data=df_proc_cat, kind=\"count\",\n",
    "                height=4, aspect=1.5);\n"
   ]
  },
  {
   "cell_type": "markdown",
   "metadata": {},
   "source": [
    "**Algunas observaciones sobre los datos**\n",
    "\n",
    "- El case fatality rate (OUT) de nuestra base de datos se sitúa en 76 por ciento. Es decir, del total de pacientes con ébola, 81 murieron.\n",
    "\n",
    "- Para este conjunto de datos la variable `JAUN` no tiene variabilidad, por lo tanto no es una variable, y se omite.\n",
    "\n",
    "\n",
    "Dado lo anterior, se ajusta el set de datos:\n",
    "\n",
    "- Se crean 3 grupos de edades, utilizando el percetil 25 (22 años), percentil 50 (36 años) y percentil 75 (45 años).\n",
    "\n",
    "- Se elimina la columna `JAUN`."
   ]
  },
  {
   "cell_type": "markdown",
   "metadata": {},
   "source": [
    "## Transformaciones al conjunto de datos"
   ]
  },
  {
   "cell_type": "code",
   "execution_count": 13,
   "metadata": {},
   "outputs": [
    {
     "data": {
      "text/plain": [
       "OUT            int64\n",
       "CT           float64\n",
       "AGE          float64\n",
       "TEMP         float64\n",
       "HEADCH         int64\n",
       "BLEED          int64\n",
       "DIARR          int64\n",
       "JAUN           int64\n",
       "VOMIT          int64\n",
       "PABD           int64\n",
       "WEAK           int64\n",
       "INTER_AGE     object\n",
       "dtype: object"
      ]
     },
     "execution_count": 13,
     "metadata": {},
     "output_type": "execute_result"
    }
   ],
   "source": [
    "# ajustes en df_raw \n",
    "df_proc = df_raw\n",
    "df_proc['INTER_AGE'] = \"NA\"\n",
    "\n",
    "df_proc.dtypes"
   ]
  },
  {
   "cell_type": "code",
   "execution_count": 14,
   "metadata": {},
   "outputs": [
    {
     "data": {
      "text/plain": [
       "OUT             int64\n",
       "CT            float64\n",
       "TEMP          float64\n",
       "HEADCH          int64\n",
       "BLEED           int64\n",
       "DIARR           int64\n",
       "VOMIT           int64\n",
       "PABD            int64\n",
       "WEAK            int64\n",
       "hasta22       float64\n",
       "entre23y36    float64\n",
       "entre37y45    float64\n",
       "mayor45       float64\n",
       "dtype: object"
      ]
     },
     "execution_count": 14,
     "metadata": {},
     "output_type": "execute_result"
    }
   ],
   "source": [
    "# ajustes en df_raw \n",
    "df_proc = df_raw\n",
    "\n",
    "# para la variable edad se crean cuatro categorías\n",
    "age_p25 = math.ceil(df_proc['AGE'].quantile(.25))\n",
    "age_p50 = math.ceil(df_proc['AGE'].quantile(.50))\n",
    "age_p75 = math.ceil(df_proc['AGE'].quantile(.75))\n",
    "\n",
    "df_proc['INTER_AGE'] = \"NA\"\n",
    "df_proc.loc[(df_proc['AGE'] <= age_p25), 'INTER_AGE'] = 1\n",
    "df_proc.loc[(df_proc['AGE'] > age_p25) & (df_proc['AGE'] <= age_p50), 'INTER_AGE'] = 2\n",
    "df_proc.loc[(df_proc['AGE'] > age_p50) & (df_proc['AGE'] <= age_p75), 'INTER_AGE'] = 3\n",
    "df_proc.loc[(df_proc['AGE'] > age_p75), 'INTER_AGE'] = 4\n",
    "\n",
    "## one hot encoding\n",
    "enc = OneHotEncoder(handle_unknown='ignore')\n",
    "enc_df = pd.DataFrame(enc.fit_transform(df_proc[['INTER_AGE']]).toarray())\n",
    "enc_df = enc_df.rename(columns={0: f\"hasta{age_p25}\", 1: f\"entre{age_p25+1}y{age_p50}\", 2: f\"entre{age_p50+1}y{age_p75}\", 3:f\"mayor{age_p75}\"})\n",
    "# merge with main df bridge_df on key values\n",
    "df_proc = df_proc.join(enc_df)\n",
    "\n",
    "# se asignan como categoricas a las binarias, incluido el output\n",
    "#bin_vars = ['OUT', 'HEADCH', 'BLEED', 'DIARR', 'JAUN', 'VOMIT',\n",
    "#       'PABD', 'WEAK', 'INTER_AGE', f\"hasta{age_p25}\", f\"entre{age_p25+1}y{age_p50}\", f\"entre{age_p50+1}y{age_p75}\", f\"mayor{age_p75}\"]\n",
    "\n",
    "#esta asignacion hace que genera problemas al evaluar el sigmoide\n",
    "#for var in bin_vars:\n",
    "#    df_proc[var] = df_proc[var].astype('category')\n",
    "    \n",
    "# se omiten las variables JAUN, AGE, INTER_AGE\n",
    "del_vars = [\"JAUN\", \"AGE\", \"INTER_AGE\"]\n",
    "for var in del_vars:\n",
    "    df_proc = df_proc.drop(var, axis=1)    \n",
    "    \n",
    "# se comprueban los tipos de variable\n",
    "df_proc.dtypes"
   ]
  },
  {
   "cell_type": "code",
   "execution_count": 15,
   "metadata": {},
   "outputs": [
    {
     "data": {
      "text/html": [
       "<div>\n",
       "<style scoped>\n",
       "    .dataframe tbody tr th:only-of-type {\n",
       "        vertical-align: middle;\n",
       "    }\n",
       "\n",
       "    .dataframe tbody tr th {\n",
       "        vertical-align: top;\n",
       "    }\n",
       "\n",
       "    .dataframe thead th {\n",
       "        text-align: right;\n",
       "    }\n",
       "</style>\n",
       "<table border=\"1\" class=\"dataframe\">\n",
       "  <thead>\n",
       "    <tr style=\"text-align: right;\">\n",
       "      <th></th>\n",
       "      <th>OUT</th>\n",
       "      <th>CT</th>\n",
       "      <th>TEMP</th>\n",
       "      <th>HEADCH</th>\n",
       "      <th>BLEED</th>\n",
       "      <th>DIARR</th>\n",
       "      <th>VOMIT</th>\n",
       "      <th>PABD</th>\n",
       "      <th>WEAK</th>\n",
       "      <th>hasta22</th>\n",
       "      <th>entre23y36</th>\n",
       "      <th>entre37y45</th>\n",
       "      <th>mayor45</th>\n",
       "    </tr>\n",
       "  </thead>\n",
       "  <tbody>\n",
       "    <tr>\n",
       "      <th>0</th>\n",
       "      <td>1</td>\n",
       "      <td>28.652450</td>\n",
       "      <td>36.3</td>\n",
       "      <td>0</td>\n",
       "      <td>0</td>\n",
       "      <td>1</td>\n",
       "      <td>0</td>\n",
       "      <td>1</td>\n",
       "      <td>1</td>\n",
       "      <td>0.0</td>\n",
       "      <td>0.0</td>\n",
       "      <td>1.0</td>\n",
       "      <td>0.0</td>\n",
       "    </tr>\n",
       "    <tr>\n",
       "      <th>1</th>\n",
       "      <td>1</td>\n",
       "      <td>25.736016</td>\n",
       "      <td>36.5</td>\n",
       "      <td>1</td>\n",
       "      <td>0</td>\n",
       "      <td>1</td>\n",
       "      <td>0</td>\n",
       "      <td>1</td>\n",
       "      <td>1</td>\n",
       "      <td>0.0</td>\n",
       "      <td>0.0</td>\n",
       "      <td>1.0</td>\n",
       "      <td>0.0</td>\n",
       "    </tr>\n",
       "    <tr>\n",
       "      <th>2</th>\n",
       "      <td>1</td>\n",
       "      <td>20.747653</td>\n",
       "      <td>38.0</td>\n",
       "      <td>1</td>\n",
       "      <td>0</td>\n",
       "      <td>0</td>\n",
       "      <td>0</td>\n",
       "      <td>0</td>\n",
       "      <td>0</td>\n",
       "      <td>0.0</td>\n",
       "      <td>0.0</td>\n",
       "      <td>0.0</td>\n",
       "      <td>1.0</td>\n",
       "    </tr>\n",
       "    <tr>\n",
       "      <th>3</th>\n",
       "      <td>1</td>\n",
       "      <td>22.736993</td>\n",
       "      <td>38.6</td>\n",
       "      <td>1</td>\n",
       "      <td>0</td>\n",
       "      <td>0</td>\n",
       "      <td>0</td>\n",
       "      <td>0</td>\n",
       "      <td>1</td>\n",
       "      <td>0.0</td>\n",
       "      <td>0.0</td>\n",
       "      <td>1.0</td>\n",
       "      <td>0.0</td>\n",
       "    </tr>\n",
       "    <tr>\n",
       "      <th>4</th>\n",
       "      <td>1</td>\n",
       "      <td>20.846284</td>\n",
       "      <td>38.4</td>\n",
       "      <td>1</td>\n",
       "      <td>0</td>\n",
       "      <td>0</td>\n",
       "      <td>1</td>\n",
       "      <td>0</td>\n",
       "      <td>1</td>\n",
       "      <td>1.0</td>\n",
       "      <td>0.0</td>\n",
       "      <td>0.0</td>\n",
       "      <td>0.0</td>\n",
       "    </tr>\n",
       "    <tr>\n",
       "      <th>...</th>\n",
       "      <td>...</td>\n",
       "      <td>...</td>\n",
       "      <td>...</td>\n",
       "      <td>...</td>\n",
       "      <td>...</td>\n",
       "      <td>...</td>\n",
       "      <td>...</td>\n",
       "      <td>...</td>\n",
       "      <td>...</td>\n",
       "      <td>...</td>\n",
       "      <td>...</td>\n",
       "      <td>...</td>\n",
       "      <td>...</td>\n",
       "    </tr>\n",
       "    <tr>\n",
       "      <th>101</th>\n",
       "      <td>1</td>\n",
       "      <td>24.191797</td>\n",
       "      <td>36.4</td>\n",
       "      <td>0</td>\n",
       "      <td>0</td>\n",
       "      <td>1</td>\n",
       "      <td>1</td>\n",
       "      <td>1</td>\n",
       "      <td>1</td>\n",
       "      <td>0.0</td>\n",
       "      <td>0.0</td>\n",
       "      <td>1.0</td>\n",
       "      <td>0.0</td>\n",
       "    </tr>\n",
       "    <tr>\n",
       "      <th>102</th>\n",
       "      <td>1</td>\n",
       "      <td>20.846284</td>\n",
       "      <td>38.4</td>\n",
       "      <td>0</td>\n",
       "      <td>0</td>\n",
       "      <td>0</td>\n",
       "      <td>1</td>\n",
       "      <td>0</td>\n",
       "      <td>1</td>\n",
       "      <td>0.0</td>\n",
       "      <td>1.0</td>\n",
       "      <td>0.0</td>\n",
       "      <td>0.0</td>\n",
       "    </tr>\n",
       "    <tr>\n",
       "      <th>103</th>\n",
       "      <td>0</td>\n",
       "      <td>38.816561</td>\n",
       "      <td>36.0</td>\n",
       "      <td>0</td>\n",
       "      <td>0</td>\n",
       "      <td>0</td>\n",
       "      <td>0</td>\n",
       "      <td>0</td>\n",
       "      <td>0</td>\n",
       "      <td>1.0</td>\n",
       "      <td>0.0</td>\n",
       "      <td>0.0</td>\n",
       "      <td>0.0</td>\n",
       "    </tr>\n",
       "    <tr>\n",
       "      <th>104</th>\n",
       "      <td>1</td>\n",
       "      <td>21.960294</td>\n",
       "      <td>36.4</td>\n",
       "      <td>0</td>\n",
       "      <td>0</td>\n",
       "      <td>0</td>\n",
       "      <td>0</td>\n",
       "      <td>0</td>\n",
       "      <td>0</td>\n",
       "      <td>0.0</td>\n",
       "      <td>1.0</td>\n",
       "      <td>0.0</td>\n",
       "      <td>0.0</td>\n",
       "    </tr>\n",
       "    <tr>\n",
       "      <th>105</th>\n",
       "      <td>0</td>\n",
       "      <td>26.221948</td>\n",
       "      <td>36.5</td>\n",
       "      <td>1</td>\n",
       "      <td>0</td>\n",
       "      <td>0</td>\n",
       "      <td>0</td>\n",
       "      <td>0</td>\n",
       "      <td>0</td>\n",
       "      <td>0.0</td>\n",
       "      <td>0.0</td>\n",
       "      <td>1.0</td>\n",
       "      <td>0.0</td>\n",
       "    </tr>\n",
       "  </tbody>\n",
       "</table>\n",
       "<p>106 rows × 13 columns</p>\n",
       "</div>"
      ],
      "text/plain": [
       "     OUT         CT  TEMP  HEADCH  BLEED  DIARR  VOMIT  PABD  WEAK  hasta22  \\\n",
       "0      1  28.652450  36.3       0      0      1      0     1     1      0.0   \n",
       "1      1  25.736016  36.5       1      0      1      0     1     1      0.0   \n",
       "2      1  20.747653  38.0       1      0      0      0     0     0      0.0   \n",
       "3      1  22.736993  38.6       1      0      0      0     0     1      0.0   \n",
       "4      1  20.846284  38.4       1      0      0      1     0     1      1.0   \n",
       "..   ...        ...   ...     ...    ...    ...    ...   ...   ...      ...   \n",
       "101    1  24.191797  36.4       0      0      1      1     1     1      0.0   \n",
       "102    1  20.846284  38.4       0      0      0      1     0     1      0.0   \n",
       "103    0  38.816561  36.0       0      0      0      0     0     0      1.0   \n",
       "104    1  21.960294  36.4       0      0      0      0     0     0      0.0   \n",
       "105    0  26.221948  36.5       1      0      0      0     0     0      0.0   \n",
       "\n",
       "     entre23y36  entre37y45  mayor45  \n",
       "0           0.0         1.0      0.0  \n",
       "1           0.0         1.0      0.0  \n",
       "2           0.0         0.0      1.0  \n",
       "3           0.0         1.0      0.0  \n",
       "4           0.0         0.0      0.0  \n",
       "..          ...         ...      ...  \n",
       "101         0.0         1.0      0.0  \n",
       "102         1.0         0.0      0.0  \n",
       "103         0.0         0.0      0.0  \n",
       "104         1.0         0.0      0.0  \n",
       "105         0.0         1.0      0.0  \n",
       "\n",
       "[106 rows x 13 columns]"
      ]
     },
     "execution_count": 15,
     "metadata": {},
     "output_type": "execute_result"
    }
   ],
   "source": [
    "df_proc"
   ]
  },
  {
   "cell_type": "markdown",
   "metadata": {},
   "source": [
    "## Planteamiento del problema de regresión\n",
    "\n",
    "A continuación se plantea el código que computa las ecuaciones ([1](#mjx-eqn-eq1)), ([2](#mjx-eqn-eq1)) y ([4](#mjx-eqn-eq1)), planteadas inicialmente."
   ]
  },
  {
   "cell_type": "code",
   "execution_count": 16,
   "metadata": {},
   "outputs": [],
   "source": [
    "def sigmoide(z):\n",
    "    '''\n",
    "    Función que devuelve el sigmoide de un vector\n",
    "        ** Parámetros:\n",
    "            - z (vec): vector numérico de m entradas\n",
    "        ** Salidas\n",
    "            - sig (vec):  vector númerico de m entradas, cada entrada tiene un valor entre -1 y 1\n",
    "    '''\n",
    "    sig = 1/(1+ np.exp(-z))\n",
    "    \n",
    "    return sig\n",
    "    \n",
    "def calc_mu(X,beta):\n",
    "    '''\n",
    "    Función que calcula la media para una variable aleatoria con distribución bernoulli.\n",
    "        ** Parámetros:\n",
    "            - X (mat): matriz de mxp entradas\n",
    "            - beta (vec): vector de p entradas\n",
    "        ** Salidas\n",
    "            - mu (vec): vector de m entradas\n",
    "    '''\n",
    "    a = np.matmul(beta,np.transpose(X))\n",
    "    mu = sigmoide(a)\n",
    "\n",
    "    return mu\n",
    "    \n",
    "def f(X,y,beta):\n",
    "    '''\n",
    "    Función que computa la log-verosimilitud negativa\n",
    "    ** Parámetros:\n",
    "        - X (mat): matriz de mxp entradas\n",
    "        - y (vec): vector de de m entradas de la variable output\n",
    "        - beta (vec): vector de p entradas\n",
    "    ** Salidas\n",
    "        - lvn (int): log-verosimilitud negativa\n",
    "    '''\n",
    "    prob = calc_mu(X,beta)\n",
    "    # Log-verosimilitud negativa \n",
    "    lvn = -sum(y*np.log(prob)+(1-y)*(np.log(1-prob)))\n",
    "    return lvn"
   ]
  },
  {
   "cell_type": "markdown",
   "metadata": {},
   "source": [
    "Reescribiendo la ecuación de la función de pérdida ([4](#mjx-eqn-eq1)), tenemos:\n",
    "\n",
    "$$F(\\beta)=- \\sum_{i=1}^{m}[y_i log\\mu_i + (1-y_i)log(1-\\mu_i)]$$\n",
    "\n",
    "Las expresiones correspondientes al gradiente y a la matriz hessiana asociados a este problema, se plantean a continuación:\n",
    "\n",
    "\\begin{align}\n",
    "\\nabla F(\\beta) & =\\frac{d}{d\\beta}F(\\beta)\\nonumber \\\\\n",
    " & =\\sum_{i}\\left(\\mu_{i}-y_{i}\\right)x_{i}\\nonumber \\\\\n",
    " & =\\boldsymbol{X}^{T}\\left(\\boldsymbol{\\mu}-\\boldsymbol{y}\\right)\\label{eq:gradient}\n",
    "\\end{align}\n",
    "\n",
    "Por otro lado, la ecuación que describe la matrix Hessiana es la siguiente:\n",
    "\n",
    "\\begin{align}\n",
    "\\nabla^{2}F(\\beta) & =\\frac{d}{d\\beta}\\nabla F\\left(\\beta\\right)^{T}\\nonumber \\\\\n",
    " & =\\sum_{i}\\left(\\nabla_{\\beta}\\mu_{i}\\right)x_{i}^{T}\\nonumber \\\\\n",
    " & =\\sum_{i}\\mu_{i}\\left(1-\\mu_{i}\\right)x_{i}x_{i}^{T}\\nonumber \\\\\n",
    " & =\\boldsymbol{X^{T}SX}\\label{eq:hessian}\n",
    "\\end{align}\n",
    "\n",
    "donde $\\boldsymbol{S}\\triangleq diag\\left(\\mu_{i}\\left(1-\\mu_{i}\\right)\\right)$.\n",
    "Como es resaltado por Murphy (2012), es definida positiva, lo que implica que ([4](#mjx-eqn-eq1)) es convexa\n",
    "y tiene un mínimo global."
   ]
  },
  {
   "cell_type": "code",
   "execution_count": 17,
   "metadata": {},
   "outputs": [],
   "source": [
    "def gradiente_f(X,y,beta):\n",
    "    '''\n",
    "    Función que calcula el gradiente asociado la log-verosimilitud negativa del problema de regresión logística\n",
    "        ** Parámetros:\n",
    "            - X (mat): matriz de mxp entradas\n",
    "            - y (vec): vector de de m entradas de la variable output\n",
    "            - beta (vec): vector de p entradas\n",
    "        ** Salidas\n",
    "            - grad (vec): vector de m entradas\n",
    "    '''\n",
    "    mu = calc_mu(X,beta)    \n",
    "    grad = np.matmul(np.transpose(X), mu-y)    \n",
    "    return grad\n",
    "\n",
    "\n",
    "def hessiana_f(X,y,beta):\n",
    "    '''\n",
    "    Función que calcula la matriz Hessiana asociada a la log-verosimilitud negativa del problema de regresión logística\n",
    "        ** Parámetros:\n",
    "            - X (mat): matriz de mxp entradas\n",
    "            - y (vec): vector de de m entradas de la variable output\n",
    "            - beta (vec): vector de p entradas\n",
    "        ** Salidas\n",
    "            - hes (vec): vector de m entradas\n",
    "    '''\n",
    "    mu = calc_mu(X,beta)\n",
    "    S = np.diag(mu*(1-mu))\n",
    "    hes = np.matmul(np.transpose(X),np.matmul(S,X))\n",
    "    return hes"
   ]
  },
  {
   "cell_type": "code",
   "execution_count": 18,
   "metadata": {},
   "outputs": [],
   "source": [
    "def normalize(x):\n",
    "    '''\n",
    "    Función que normaliza un vector\n",
    "        **Parametros:\n",
    "            - x: vector a normalizar\n",
    "            \n",
    "        **Salidas:\n",
    "            - norm : Vector x normalizado\n",
    "    '''\n",
    "    \n",
    "    norm = x/np.sqrt(sum(x*x))\n",
    "    return norm"
   ]
  },
  {
   "cell_type": "code",
   "execution_count": 19,
   "metadata": {},
   "outputs": [],
   "source": [
    "def clasifica(X, beta_hat,limit=0.5):\n",
    "    '''\n",
    "    Función que clasifica la ocurrencia de probabilidades en dos grupos.\n",
    "    Emplea el parámetro límite para delimitar si se clasifica en el grupo 0 o 1.\n",
    "        **Parámetros:\n",
    "            - X (mat): matrix of data\n",
    "            - beta_hat (array): optimized parameter\n",
    "            - limit (float64) 0<limit<1: Threshold for each classification\n",
    "        \n",
    "        **Saludas:\n",
    "            - yhat: array of classifed data\n",
    "    '''\n",
    "    mu = calc_mu(X,beta_hat)\n",
    "    yhat = mu\n",
    "    yhat[mu<limit] = 0\n",
    "    yhat[mu>=limit] = 1\n",
    "    return yhat"
   ]
  },
  {
   "cell_type": "code",
   "execution_count": 20,
   "metadata": {},
   "outputs": [],
   "source": [
    "def descent_direction(X, y, beta, method=\"max\",H=None):\n",
    "    '''\n",
    "    Función que devuelve vector normalizado (px1) que apunta en la direccion de decenso\n",
    "        ** Parámetros:\n",
    "            - X (mat): matriz de mxp entradas\n",
    "            - y (vec): vector de de m entradas de la variable output\n",
    "            - beta (vec float64): vector de entradas a optimizar\n",
    "            - method (str): método que determina la dirección de descenso\n",
    "                opciones:\n",
    "                    - max: método de descenso\n",
    "                    - newton: método de Newton\n",
    "                    - bfsg: metodo bfsg\n",
    "            - H (mat pxp): Parametro para direccion de decenso del metodo bfgs\n",
    "            \n",
    "        ** Salidas\n",
    "            - pk (vec): vector normalizado con la direccion del paso\n",
    "    '''\n",
    "    if(method == \"max\"):\n",
    "        pk = gradiente_f(X,y,beta)\n",
    "    \n",
    "    elif(method == \"newton\"):\n",
    "        grad = gradiente_f(X,y,beta)\n",
    "        hess = hessiana_f(X,y,beta)\n",
    "        pk = np.linalg.solve(hess,grad)\n",
    "        \n",
    "    elif(method==\"bfsg\"):\n",
    "        pk = np.matmul(H,gradiente_f(X,y,beta))\n",
    "                              \n",
    "    return - normalize(pk)\n"
   ]
  },
  {
   "cell_type": "code",
   "execution_count": 21,
   "metadata": {},
   "outputs": [],
   "source": [
    "def calc_H(X,y,beta,beta_new=None,H=None):\n",
    "    '''\n",
    "    Función que actualiza los valores de la matriz H del metodo bfgs para cada iteracion\n",
    "        ** Parametros:\n",
    "            - beta (array) - valor de cantidad a optimizar en la iteracion actual\n",
    "            - beta_new (array)- valore de la cantidad a optimizar despues de la actualizacion\n",
    "            - H (mat)- valor de la matriz H en la iteracion anterior\n",
    "        \n",
    "        ** Salidas:\n",
    "            - H (mat): valor de la matriz para la siguiente iteracion\n",
    "            \n",
    "    '''\n",
    "    \n",
    "    w = gradiente_f(X,y,beta_new)- gradiente_f(X,y,beta)\n",
    "    z = beta_new-beta\n",
    "    Hz = np.matmul(H,z)\n",
    "    dotwz = np.dot(w,z)\n",
    "    dotzhz = np.dot(Hz,z)\n",
    "    H = H+(np.outer(w,w)/dotwz)-(np.outer(Hz,Hz)/dotzhz)\n",
    "   \n",
    "    return H"
   ]
  },
  {
   "cell_type": "code",
   "execution_count": 22,
   "metadata": {},
   "outputs": [],
   "source": [
    "def calc_lr(X, y, beta, lr, pk, c1=10**(-4), tao=0.5, reset_lr=False):\n",
    "    '''\n",
    "    Función que calcula el tamaño del paso para cada iteración utilizando la condicion de armijo.\n",
    "    La tasa de aprendizaje minima es la que tenia en el paso anterior.\n",
    "        ** Parámetros:\n",
    "            - X (mat): matriz de mxp entradas\n",
    "            - y (vec): vector de de m entradas de la variable output\n",
    "            - lr (float64): tasa de aprendizaje\n",
    "            - pk (array px1 float64): direccion de decenso\n",
    "            - c1 (float64) 0<c1<1: parametro de control\n",
    "            - tao (float64) 0<tao<1: parametro de decrecimiento de lr\n",
    "                \n",
    "        ** Salidas\n",
    "            - lr (float64): tamaño de paso\n",
    "    '''\n",
    "    #pruebas unitarias:\n",
    "    #verificar que tao esta entre 0 y 1\n",
    "    #verificare que c1 esta entre 0 y 1\n",
    "    #verificar que pk es negativo\n",
    "    \n",
    "    #inicializamos \n",
    "    tao = 0.9\n",
    "    max_iter = 100\n",
    "    iter = 0\n",
    "    \n",
    "    #inicializa lr\n",
    "    if reset_lr==True: lr = 1\n",
    "\n",
    "    #evalauciones periodicas\n",
    "    grad = gradiente_f(X,y,beta)\n",
    "    eval_f = f(X,y, beta)\n",
    "    \n",
    "    #primera iteracion\n",
    "    f_x =  f(X,y, beta + lr*pk) #en nocedal es phi(alpha)\n",
    "    f_x1 = eval_f + c1 * lr *  np.dot(grad,pk) # en nocedal es l(alhpa)\n",
    "    \n",
    "    while ((f_x>f_x1) & (iter<max_iter)):\n",
    "        lr = lr*tao\n",
    "        f_x =  f(X,y, beta + lr*pk) \n",
    "        f_x1 = eval_f + c1 * lr *  np.dot(grad,pk) \n",
    "        iter+=1\n",
    "    \n",
    "    return lr"
   ]
  },
  {
   "cell_type": "code",
   "execution_count": 23,
   "metadata": {},
   "outputs": [],
   "source": [
    "# prueba\n",
    "# prueba\n",
    "# No esta funcionando bien\n",
    "# Longitud de paso con condiciones completas de wolf\n",
    "\n",
    "def calc_lr_wolf(X, y, beta, lr, pk, c1=10**(-4), c2=0.9, tao=0.5, reset_lr=False):\n",
    "    '''\n",
    "    Función que calcula el tamaño del paso para cada iteración utilizando la condicion de armijo.\n",
    "    La tasa de aprendizaje minima es la que tenía en el paso anterior.\n",
    "        ** Parámetros:\n",
    "            - X (mat): matriz de mxp entradas\n",
    "            - y (vec): vector de de m entradas de la variable output\n",
    "            - lr (float64): tasa de aprendizaje\n",
    "            - pk (array px1 float64): direccion de decenso\n",
    "            - c1 (float64) 0<c1<1: parametro de control\n",
    "            - tao (float64) 0<tao<1: parametro de decrecimiento de lr\n",
    "                \n",
    "        ** Salidas\n",
    "            - lr (float64): tamaño de paso\n",
    "    '''\n",
    "    #pruebas unitarias:\n",
    "    #verificar que tao esta entre 0 y 1\n",
    "    #verificare que c1 esta entre 0 y 1\n",
    "    #verificar que pk es negativo\n",
    "    \n",
    "    # Inicializamos \n",
    "    tao = 0.5\n",
    "    max_iter = 50\n",
    "    iter = 0\n",
    "    \n",
    "    # Inicializa lr\n",
    "    if reset_lr==True: lr=1\n",
    "\n",
    "    # Evalauciones periodicas\n",
    "    grad = gradiente_f(X,y,beta)\n",
    "    eval_f = f(X,y, beta)\n",
    "    \n",
    "    # Primera iteracion\n",
    "    f_x =  f(X,y, beta + lr*pk) #en nocedal es phi(alpha)\n",
    "    f_x1 = eval_f + c1 * lr *  np.dot(grad,pk) # en nocedal es l(alhpa)\n",
    "    \n",
    "    gf_x = np.dot(gradiente_f(X,y, beta+lr*pk) , pk)\n",
    "    gf_x1 = c2* np.dot(grad, pk)\n",
    "    \n",
    "    while ((f_x>f_x1) & (gf_x<gf_x1) & (iter<max_iter)):\n",
    "        lr =lr*tao\n",
    "        f_x =  f(X,y, beta + lr*pk) \n",
    "        f_x1 = eval_f + c1 * lr *  np.dot(grad,pk) \n",
    "        \n",
    "        gf_x = np.dot(gradiente_f(X,y, beta+lr*pk) , pk)\n",
    "        #gf_x1 = c2* np.dot(grad, pk)\n",
    "    \n",
    "        \n",
    "        iter+=1\n",
    "    \n",
    "    return lr"
   ]
  },
  {
   "cell_type": "code",
   "execution_count": 24,
   "metadata": {},
   "outputs": [],
   "source": [
    "def gradient_descent(X, y, lr=1, tol=10**(-7), max_iter=10**5, method=\"max\", reset_lr=False, verbose_n=1000):\n",
    "    '''\n",
    "    Función que devuelve vector de parámetros beta (px1) resultante del proceso de optimización por descenso de gradiente\n",
    "        ** Parámetros:\n",
    "            - X (mat): matriz de mxp entradas\n",
    "            - y (vec): vector de de m entradas de la variable output\n",
    "            - lr (float64): valor inicial de la tasa de aprendizaje\n",
    "            - tol (float64): criterio de convergencia\n",
    "            - max_iter (int): número máximo de iteraciones\n",
    "            - method (str): método que determina la dirección de descenso\n",
    "                opciones:\n",
    "                    - max: método de descenso\n",
    "                    - newton: método de Newton\n",
    "                    - bfsg\n",
    "            \n",
    "        ** Salidas\n",
    "            - beta_new (vec): vector de p entradas con parámetros que minimizan la función de pérdida\n",
    "    '''\n",
    "\n",
    "    # Inicializa\n",
    "    iteraciones=0\n",
    "    H = None\n",
    "    dims = X.shape[1]\n",
    "    tol = tol*dims\n",
    "    \n",
    "    # Inicializamos beta aleatoria\n",
    "    beta = np.random.normal(1,3,dims)\n",
    "    if method ==\"bfsg\": H = np.identity(dims)\n",
    "    \n",
    "    # Primera iteracion\n",
    "    pk =  descent_direction(X, y, beta, method,H)\n",
    "    beta_new = beta + lr*pk\n",
    "    if method == \"bfsg\": H=calc_H(X,y,beta,beta_new,H) \n",
    "    \n",
    "    # Condición de paro.\n",
    "    while ((np.linalg.norm(gradiente_f(X,y,beta_new)) > tol) & (iteraciones < max_iter)):\n",
    "        iteraciones+=1 #contador de ciclo\n",
    "        \n",
    "        beta = beta_new\n",
    "        pk =  descent_direction(X,y,beta,method,H)\n",
    "        lr = calc_lr(X, y, beta, lr, pk, reset_lr = reset_lr)\n",
    "        \n",
    "        beta_new = beta + lr*pk\n",
    "        \n",
    "        if method == \"bfsg\": H=calc_H(X,y,beta,beta_new,H)\n",
    "            \n",
    "        # Imprime\n",
    "        if iteraciones % verbose_n == 0:\n",
    "            grad=np.linalg.norm(gradiente_f(X,y,beta_new))\n",
    "            print(f'gard:{grad:.7E}, lr:{lr:.4E}, iter:{iteraciones}')\n",
    "        \n",
    "    print(\"**************************************************\")\n",
    "    if iteraciones == max_iter:print(\"Alcanzó el número máximo de iteraciones\")\n",
    "    print(\"iteraciones=\",iteraciones)\n",
    "    print(\"||grad_f||=\",np.linalg.norm(gradiente_f(X,y,beta_new)))\n",
    "    print(\"**************************************************\")\n",
    "    \n",
    "    return beta_new"
   ]
  },
  {
   "cell_type": "code",
   "execution_count": 25,
   "metadata": {},
   "outputs": [],
   "source": [
    "from sklearn.model_selection import train_test_split\n",
    "from sklearn.preprocessing import MinMaxScaler\n",
    "\n",
    "data =df_proc.to_numpy()\n",
    "y = data[:,0]\n",
    "X = data[:,1:]\n",
    "x_train, x_test, y_train, y_test=train_test_split(X,y,test_size=.2)\n",
    "\n",
    "# Scale data\n",
    "scaler = MinMaxScaler()\n",
    "x_train = scaler.fit_transform(x_train)\n",
    "x_test = scaler.fit_transform(x_test)"
   ]
  },
  {
   "cell_type": "code",
   "execution_count": 26,
   "metadata": {},
   "outputs": [
    {
     "name": "stdout",
     "output_type": "stream",
     "text": [
      "**************************************************\n",
      "iteraciones= 16593\n",
      "||grad_f||= 1.0399150193139557e-06\n",
      "**************************************************\n",
      "beta_hat= [-12.86959747  25.1079574   -7.76389331   2.92291351   4.82423981\n",
      "   3.30592463   1.44203925   3.19768379   3.74964275   5.14513205\n",
      "   5.01755838   4.34508613]\n",
      "Error de clasificacion= 13.64 %\n",
      "CPU times: user 2.67 s, sys: 22.2 ms, total: 2.69 s\n",
      "Wall time: 2.61 s\n"
     ]
    }
   ],
   "source": [
    "%%time \n",
    "beta_hat = gradient_descent(x_train,y_train,max_iter=10**6,reset_lr=False,verbose_n=100000)\n",
    "yhat = clasifica(x_test,beta_hat)\n",
    "\n",
    "print(\"beta_hat=\", beta_hat)\n",
    "print(\"Error de clasificacion=\",round(100*sum(abs(y_test-yhat))/len(yhat),2),\"%\")"
   ]
  },
  {
   "cell_type": "code",
   "execution_count": 27,
   "metadata": {},
   "outputs": [
    {
     "name": "stdout",
     "output_type": "stream",
     "text": [
      "gard:5.2686433E+00, lr:1.0000E+00, iter:10\n",
      "gard:8.7242228E-01, lr:1.0000E+00, iter:20\n",
      "gard:1.1122993E-01, lr:1.0000E+00, iter:30\n",
      "gard:6.9181560E-04, lr:1.0942E-01, iter:40\n",
      "gard:1.2844428E-04, lr:2.0276E-02, iter:50\n",
      "gard:2.8952954E-05, lr:4.6384E-03, iter:60\n",
      "gard:5.3613100E-06, lr:8.5950E-04, iter:70\n",
      "gard:1.2393521E-06, lr:1.7696E-04, iter:80\n",
      "**************************************************\n",
      "iteraciones= 81\n",
      "||grad_f||= 9.957681085804994e-07\n",
      "**************************************************\n",
      "beta_hat= [-12.86958514  25.1079274   -7.76388546   2.92295453   4.82423279\n",
      "   3.30592052   1.44203804   3.19767979   3.74964046   5.14512866\n",
      "   5.01755672   4.34508548]\n",
      "Error de clasificacion= 13.64 %\n",
      "CPU times: user 25.3 ms, sys: 4.3 ms, total: 29.6 ms\n",
      "Wall time: 50.7 ms\n"
     ]
    }
   ],
   "source": [
    "%%time\n",
    "# Método de Newton\n",
    "beta_hat = gradient_descent(x_train,y_train, method=\"newton\",max_iter = 10**5,verbose_n = 10)\n",
    "yhat = clasifica(x_test,beta_hat)\n",
    "\n",
    "print(\"beta_hat=\", beta_hat)\n",
    "print(\"Error de clasificacion=\",round(100*sum(abs(y_test-yhat))/len(yhat),2),\"%\")"
   ]
  },
  {
   "cell_type": "code",
   "execution_count": 28,
   "metadata": {},
   "outputs": [
    {
     "name": "stdout",
     "output_type": "stream",
     "text": [
      "gard:1.5026183E-04, lr:6.1704E-05, iter:100000\n",
      "gard:4.1612017E-05, lr:1.7427E-05, iter:200000\n",
      "**************************************************\n",
      "iteraciones= 272277\n",
      "||grad_f||= 1.1920621551314674e-06\n",
      "**************************************************\n",
      "beta_hat= [-12.86958672  25.10791047  -7.76388126   2.92219843   4.82423254\n",
      "   3.30591455   1.442042     3.19767815   3.74964351   5.1451287\n",
      "   5.01755709   4.34508782]\n",
      "Error de clasificacion= 13.64 %\n",
      "CPU times: user 1min 1s, sys: 56 µs, total: 1min 1s\n",
      "Wall time: 1min 1s\n"
     ]
    }
   ],
   "source": [
    "%%time\n",
    "#metodo bfsg\n",
    "\n",
    "beta_hat = gradient_descent(x_train,y_train, method = \"bfsg\",max_iter = 10**6,lr=1,verbose_n = 100000)\n",
    "yhat = clasifica(x_test,beta_hat)\n",
    "\n",
    "print(\"beta_hat=\", beta_hat)\n",
    "print(\"Error de clasificacion=\",round(100*sum(abs(y_test-yhat))/len(yhat),2),\"%\")"
   ]
  },
  {
   "cell_type": "markdown",
   "metadata": {},
   "source": [
    "## Descenso del gradiente estocastico\n",
    "\n",
    "Calculamos la función de riego empirico como la esperanza de la funcion de perdida evaluada sobre todos los puntos del dominio.\n",
    "\n",
    "$$L_{emp}=\\frac{1}{m} \\sum^{m}_{i=1} y_i log(\\mu_i) + (1-y_i) log(1-\\mu_i)$$  \n",
    "<br>\n",
    "$$ \\mu_i = (1+e^{-\\beta^T x_i})^{-1}= \\sigma(\\beta^T x_i)$$\n",
    "\n",
    "Y el gradiente de la función de riesgo esta dado por:\n",
    "\n",
    "$$\\nabla L=\\frac{dL}{d\\mu_i} =\\frac{1}{m} \\sum^{m}_{i=1} x_i(\\mu_i-y_i)$$"
   ]
  },
  {
   "cell_type": "code",
   "execution_count": 121,
   "metadata": {},
   "outputs": [],
   "source": [
    "def riesgo_empirico(X,y,beta):\n",
    "    mu=calc_mu(X,beta)\n",
    "    loss=-sum(y*np.log(mu)+(1-y)*np.log(1-mu))\n",
    "    return loss\n",
    "\n",
    "def gradiente_riesgo_empirico(X,y,beta):\n",
    "    m = X.shape[0]\n",
    "    mu = calc_mu(X,beta)\n",
    "    return np.matmul(np.transpose(X),mu-y)/m"
   ]
  },
  {
   "cell_type": "code",
   "execution_count": 158,
   "metadata": {},
   "outputs": [],
   "source": [
    "import random\n",
    "def mini_lotes(X,y,q=3):\n",
    "    cols = X.shape[1]\n",
    "    data = np.hstack((X,y[:,None]))\n",
    "    np.random.shuffle(data)\n",
    "    data = data[0:q]\n",
    "    X = data[:,0:cols]\n",
    "    y = data[:,cols]\n",
    "    return X,y\n",
    "\n",
    "def batch(m,q=10):\n",
    "    index=np.random.randint(low=0,high=m,size=q)\n",
    "    return index\n",
    "\n",
    "def error_train(X,y,beta):\n",
    "    prediction=clasifica(X,beta)\n",
    "    err=round(100*sum(abs(y-prediction))/len(prediction),2)\n",
    "    return err"
   ]
  },
  {
   "cell_type": "code",
   "execution_count": 203,
   "metadata": {},
   "outputs": [],
   "source": [
    "\n",
    "def SGD(X,y,batch_size,verbose_n=100,max_iter=10**5):\n",
    "\n",
    "    #inicializa\n",
    "    m=X.shape[0]\n",
    "    epsilon = 10**(-6)\n",
    "    beta = np.random.normal(0,1,X.shape[1])    \n",
    "    step_size=.01\n",
    "    iteraciones = 0\n",
    "    epoca=0\n",
    "    ipe=int(m/q)#iteraciones por epoca\n",
    "    \n",
    "    #primera iteracion\n",
    "    index=batch(m,batch_size)\n",
    "    x_lote=X[index,:]\n",
    "    y_lote = y[index]\n",
    "    beta_new = beta - step_size * gradiente_riesgo_empirico(x_lote,y_lote,beta) \n",
    "    \n",
    "    #\n",
    "    perdida=riesgo_empirico(X,y,beta)\n",
    "    error=error_train(X,y,beta)\n",
    "    \n",
    "    #while ((np.linalg.norm(gradiente_f(X,y,beta_new)) > epsilon) & (iteraciones < max_iter)):\n",
    "    # while abs(f(X,y,beta) - f(X,y,beta_new)) > epsilon:\n",
    "    while iteraciones<max_iter:\n",
    "        iteraciones +=1\n",
    "        #print(\"iteraciones1=\",iteraciones)\n",
    "        beta = beta_new\n",
    "        #x_lote,y_lote = mini_lotes(X,y,q)\n",
    "        index=batch(m,batch_size)\n",
    "        x_lote=X[index,:]\n",
    "        y_lote = y[index]\n",
    "        beta_new = beta - step_size * gradiente_riesgo_empirico(x_lote,y_lote,beta)\n",
    "        #print(\"iteraciones2=\",iteraciones)\n",
    "        if iteraciones%1000==0:\n",
    "            epoca+=1\n",
    "            loss=riesgo_empirico(X,y,beta)\n",
    "            perdida=np.append(perdida,loss)\n",
    "            err=error_train(X,y,beta)\n",
    "            error=np.append(error, error_train(x_test,y_test,beta_hat))\n",
    "            #print(f'loss:{loss:.4}, epoca:{epoca}, iter:{iteraciones}')\n",
    "        #print(\"iteraciones3=\",iteraciones)\n",
    "    print(\"iteraciones=\",iteraciones)\n",
    "    return beta_new,perdida,error"
   ]
  },
  {
   "cell_type": "code",
   "execution_count": 178,
   "metadata": {},
   "outputs": [
    {
     "name": "stdout",
     "output_type": "stream",
     "text": [
      "[1 1 2 3 4 5 6]\n"
     ]
    }
   ],
   "source": [
    "x=1\n",
    "y=[]\n",
    "for y in range(1,7):\n",
    "    x=np.append(x,y)\n",
    "print(x)"
   ]
  },
  {
   "cell_type": "code",
   "execution_count": 205,
   "metadata": {},
   "outputs": [
    {
     "name": "stdout",
     "output_type": "stream",
     "text": [
      "####################\n",
      "iteraciones= 100000\n"
     ]
    },
    {
     "data": {
      "image/png": "[encoded data removed]",
      "text/plain": [
       "<Figure size 432x288 with 2 Axes>"
      ]
     },
     "metadata": {
      "needs_background": "light"
     },
     "output_type": "display_data"
    },
    {
     "name": "stdout",
     "output_type": "stream",
     "text": [
      "\n",
      "\n",
      "####################\n",
      "iteraciones= 100000\n"
     ]
    },
    {
     "data": {
      "image/png": "[encoded data removed]",
      "text/plain": [
       "<Figure size 432x288 with 2 Axes>"
      ]
     },
     "metadata": {
      "needs_background": "light"
     },
     "output_type": "display_data"
    },
    {
     "name": "stdout",
     "output_type": "stream",
     "text": [
      "\n",
      "\n",
      "####################\n",
      "iteraciones= 100000\n"
     ]
    },
    {
     "data": {
      "image/png": "[encoded data removed]",
      "text/plain": [
       "<Figure size 432x288 with 2 Axes>"
      ]
     },
     "metadata": {
      "needs_background": "light"
     },
     "output_type": "display_data"
    },
    {
     "name": "stdout",
     "output_type": "stream",
     "text": [
      "\n",
      "\n",
      "####################\n",
      "iteraciones= 100000\n"
     ]
    },
    {
     "data": {
      "image/png": "[encoded data removed]",
      "text/plain": [
       "<Figure size 432x288 with 2 Axes>"
      ]
     },
     "metadata": {
      "needs_background": "light"
     },
     "output_type": "display_data"
    },
    {
     "name": "stdout",
     "output_type": "stream",
     "text": [
      "\n",
      "\n",
      "####################\n",
      "iteraciones= 100000\n"
     ]
    },
    {
     "data": {
      "image/png": "[encoded data removed]",
      "text/plain": [
       "<Figure size 432x288 with 2 Axes>"
      ]
     },
     "metadata": {
      "needs_background": "light"
     },
     "output_type": "display_data"
    },
    {
     "name": "stdout",
     "output_type": "stream",
     "text": [
      "\n",
      "\n",
      "####################\n",
      "iteraciones= 100000\n"
     ]
    },
    {
     "data": {
      "image/png": "[encoded data removed]",
      "text/plain": [
       "<Figure size 432x288 with 2 Axes>"
      ]
     },
     "metadata": {
      "needs_background": "light"
     },
     "output_type": "display_data"
    },
    {
     "name": "stdout",
     "output_type": "stream",
     "text": [
      "\n",
      "\n",
      "####################\n",
      "iteraciones= 100000\n"
     ]
    },
    {
     "data": {
      "image/png": "[encoded data removed]",
      "text/plain": [
       "<Figure size 432x288 with 2 Axes>"
      ]
     },
     "metadata": {
      "needs_background": "light"
     },
     "output_type": "display_data"
    },
    {
     "name": "stdout",
     "output_type": "stream",
     "text": [
      "\n",
      "\n",
      "####################\n",
      "iteraciones= 100000\n"
     ]
    },
    {
     "data": {
      "image/png": "[encoded data removed]",
      "text/plain": [
       "<Figure size 432x288 with 2 Axes>"
      ]
     },
     "metadata": {
      "needs_background": "light"
     },
     "output_type": "display_data"
    },
    {
     "name": "stdout",
     "output_type": "stream",
     "text": [
      "\n",
      "\n",
      "####################\n",
      "iteraciones= 100000\n"
     ]
    },
    {
     "data": {
      "image/png": "[encoded data removed]",
      "text/plain": [
       "<Figure size 432x288 with 2 Axes>"
      ]
     },
     "metadata": {
      "needs_background": "light"
     },
     "output_type": "display_data"
    },
    {
     "name": "stdout",
     "output_type": "stream",
     "text": [
      "\n",
      "\n",
      "CPU times: user 1min, sys: 1.8 s, total: 1min 2s\n",
      "Wall time: 58.9 s\n"
     ]
    }
   ],
   "source": [
    "%%time\n",
    "\n",
    "# Método de SGD\n",
    "for batch_size in range(1,10):\n",
    "    print(\"####################\")\n",
    "    #print(\"Tamaño de minilote= \",batch_size)\n",
    "    beta_hat, loss, error = SGD(x_train, y_train, max_iter=10**5, batch_size=batch_size)\n",
    "    yhat = clasifica(x_test,beta_hat)\n",
    "    titulo=\"Batch size = \"+str(batch_size)\n",
    "    graf_loss_err(loss,error,titulo)\n",
    "    #print(\"beta_hat=\", beta_hat)\n",
    "    #print(\"Error de clasificacion=\",round(100*sum(abs(y_test-yhat))/len(yhat),2),\"%\")\n",
    "    print(\"\\n\")"
   ]
  },
  {
   "cell_type": "code",
   "execution_count": 193,
   "metadata": {},
   "outputs": [
    {
     "ename": "AttributeError",
     "evalue": "'Figure' object has no attribute 'set_title'",
     "output_type": "error",
     "traceback": [
      "\u001b[0;31m---------------------------------------------------------------------------\u001b[0m",
      "\u001b[0;31mAttributeError\u001b[0m                            Traceback (most recent call last)",
      "\u001b[0;32m<ipython-input-193-580ab1a08760>\u001b[0m in \u001b[0;36m<module>\u001b[0;34m\u001b[0m\n\u001b[0;32m----> 1\u001b[0;31m \u001b[0mgraf_loss_err\u001b[0m\u001b[0;34m(\u001b[0m\u001b[0mloss\u001b[0m\u001b[0;34m[\u001b[0m\u001b[0;36m0\u001b[0m\u001b[0;34m:\u001b[0m\u001b[0;36m20\u001b[0m\u001b[0;34m]\u001b[0m\u001b[0;34m,\u001b[0m\u001b[0merror\u001b[0m\u001b[0;34m[\u001b[0m\u001b[0;36m0\u001b[0m\u001b[0;34m:\u001b[0m\u001b[0;36m20\u001b[0m\u001b[0;34m]\u001b[0m\u001b[0;34m)\u001b[0m\u001b[0;34m\u001b[0m\u001b[0;34m\u001b[0m\u001b[0m\n\u001b[0m",
      "\u001b[0;32m<ipython-input-192-f6d0e5397146>\u001b[0m in \u001b[0;36mgraf_loss_err\u001b[0;34m(loss, error)\u001b[0m\n\u001b[1;32m     13\u001b[0m \u001b[0;34m\u001b[0m\u001b[0m\n\u001b[1;32m     14\u001b[0m     \u001b[0mfig\u001b[0m\u001b[0;34m.\u001b[0m\u001b[0mtight_layout\u001b[0m\u001b[0;34m(\u001b[0m\u001b[0;34m)\u001b[0m\u001b[0;34m\u001b[0m\u001b[0;34m\u001b[0m\u001b[0m\n\u001b[0;32m---> 15\u001b[0;31m     \u001b[0mfig\u001b[0m\u001b[0;34m.\u001b[0m\u001b[0mset_title\u001b[0m\u001b[0;34m(\u001b[0m\u001b[0;34m\"afsdsfds\"\u001b[0m\u001b[0;34m)\u001b[0m\u001b[0;34m\u001b[0m\u001b[0;34m\u001b[0m\u001b[0m\n\u001b[0m\u001b[1;32m     16\u001b[0m     \u001b[0mplt\u001b[0m\u001b[0;34m.\u001b[0m\u001b[0mshow\u001b[0m\u001b[0;34m(\u001b[0m\u001b[0;34m)\u001b[0m\u001b[0;34m\u001b[0m\u001b[0;34m\u001b[0m\u001b[0m\n",
      "\u001b[0;31mAttributeError\u001b[0m: 'Figure' object has no attribute 'set_title'"
     ]
    },
    {
     "data": {
      "image/png": "[encoded data removed]",
      "text/plain": [
       "<Figure size 432x288 with 2 Axes>"
      ]
     },
     "metadata": {
      "needs_background": "light"
     },
     "output_type": "display_data"
    }
   ],
   "source": []
  },
  {
   "cell_type": "code",
   "execution_count": 199,
   "metadata": {},
   "outputs": [
    {
     "data": {
      "image/png": "[encoded data removed]",
      "text/plain": [
       "<Figure size 432x288 with 2 Axes>"
      ]
     },
     "metadata": {
      "needs_background": "light"
     },
     "output_type": "display_data"
    }
   ],
   "source": [
    "def graf_loss_err(loss,error,title):\n",
    "    x=np.arange(0,len(error))\n",
    "    fig, axs = plt.subplots(2, 1)\n",
    "    axs[0].plot(x, error)\n",
    "    axs[0].set_xlabel('Iteraciones')\n",
    "    axs[0].set_ylabel('Train error %')\n",
    "    axs[0].grid(True)\n",
    "    \n",
    "    axs[1].plot(x, loss)\n",
    "    axs[1].set_xlabel('Iteraciones')\n",
    "    axs[1].set_ylabel('Perdida')\n",
    "    axs[1].grid(True)\n",
    "    axs[0].set_title(title, fontsize=14)\n",
    "    \n",
    "    fig.tight_layout()\n",
    "    plt.show()\n",
    "    \n",
    "graf_loss_err(loss[0:20],error[0:20],\"Batch size\")"
   ]
  },
  {
   "cell_type": "code",
   "execution_count": null,
   "metadata": {},
   "outputs": [],
   "source": []
  }
 ],
 "metadata": {
  "kernelspec": {
   "display_name": "Python 3",
   "language": "python",
   "name": "python3"
  },
  "language_info": {
   "codemirror_mode": {
    "name": "ipython",
    "version": 3
   },
   "file_extension": ".py",
   "mimetype": "text/x-python",
   "name": "python",
   "nbconvert_exporter": "python",
   "pygments_lexer": "ipython3",
   "version": "3.6.9"
  }
 },
 "nbformat": 4,
 "nbformat_minor": 4
}
